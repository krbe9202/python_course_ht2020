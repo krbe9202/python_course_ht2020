{
 "cells": [
  {
   "cell_type": "markdown",
   "metadata": {},
   "source": [
    "# Introduction to Python HT20\n"
   ]
  },
  {
   "cell_type": "markdown",
   "metadata": {},
   "source": [
    "##### Import Libraries and Load Files"
   ]
  },
  {
   "cell_type": "code",
   "execution_count": 5,
   "metadata": {},
   "outputs": [
    {
     "name": "stdout",
     "output_type": "stream",
     "text": [
      "/Users/kbenevides/python_workshop_course/mainAssignment.ipynb\n"
     ]
    }
   ],
   "source": [
    "import os\n",
    "import gzip\n",
    "import itertools\n",
    "import time\n",
    "\n",
    "# Path to notebook\n",
    "notebook_path = os.path.abspath(\"mainAssignment.ipynb\")\n",
    "print(notebook_path)\n",
    "\n",
    "# Human chromosome 7 reference sequence\n",
    "chr7_ref = \"data/Homo_sapiens.GRCh38.dna_sm.chromosome.7.fa.gz\"\n",
    "# Human reference genome annotation\n",
    "annotation= \"data/Homo_sapiens.GRCh38.93.gtf\""
   ]
  },
  {
   "cell_type": "markdown",
   "metadata": {},
   "source": [
    "### WARM UP \n",
    "\n",
    "Two short excercises to get started! \n",
    "\n",
    "##### 1. What is the length of chromosome 7 on the reference sequence?"
   ]
  },
  {
   "cell_type": "code",
   "execution_count": 57,
   "metadata": {},
   "outputs": [
    {
     "name": "stdout",
     "output_type": "stream",
     "text": [
      "Method 1 1.53 seconds\n",
      "The length of the human chromosome 7 is: 159345973 nt\n",
      "Method 2 3.386 seconds\n",
      "The length of the human chromosome 7 is: 159345973 nt\n",
      "Method 3 3.676 seconds\n",
      "The length of the human chromosome 7 is: 159345973 nt\n"
     ]
    }
   ],
   "source": [
    "\n",
    "def count_chr_1(file):\n",
    "    start_time=time.time()\n",
    "    \n",
    "    lines = gzip.open(file).read().splitlines()[1:]\n",
    "    num = sum([len(i) for i in lines])\n",
    "    \n",
    "    end_time=time.time()\n",
    "    run= end_time - start_time\n",
    "    print(\"Method 1 %s seconds\" % round(run,3))\n",
    "    return num\n",
    "\n",
    "# method 2\n",
    "def count_chr_2(file):\n",
    "    start_time = time.time()\n",
    "    \n",
    "    num = 0\n",
    "    with gzip.open(file) as fasta:\n",
    "        for line in itertools.islice(fasta,1,None):\n",
    "            num += len(line.strip())\n",
    "    \n",
    "    end_time = time.time()\n",
    "    run= end_time - start_time\n",
    "    print(\"Method 2 %s seconds\" % round(run,3))\n",
    "    return num\n",
    "\n",
    "#method 3\n",
    "def count_chr_3(file):\n",
    "    start_time = time.time()\n",
    "    \n",
    "    f = gzip.open(file, 'r')\n",
    "    length = 0\n",
    "    for line in f:\n",
    "        if not line.startswith(b\">\"):\n",
    "            length += len(line.strip())  # add the length of the line, without newline character\n",
    "    f.close()\n",
    "    \n",
    "    end_time = time.time()\n",
    "    run= end_time - start_time\n",
    "    print(\"Method 3 %s seconds\" % round(run,3))\n",
    "    return length\n",
    "\n",
    "\n",
    "print(\"The length of the human chromosome 7 is: %d nt\" % count_chr_1(chr7_ref))\n",
    "print(\"The length of the human chromosome 7 is: %d nt\" % count_chr_2(chr7_ref))\n",
    "print(\"The length of the human chromosome 7 is: %d nt\" % count_chr_3(chr7_ref))"
   ]
  },
  {
   "cell_type": "markdown",
   "metadata": {},
   "source": []
  },
  {
   "cell_type": "markdown",
   "metadata": {},
   "source": [
    "##### 2. How many genes are annotated in the GTF file? "
   ]
  },
  {
   "cell_type": "code",
   "execution_count": 58,
   "metadata": {},
   "outputs": [
    {
     "name": "stdout",
     "output_type": "stream",
     "text": [
      "Number of genes in the GTF file: 58395\n"
     ]
    }
   ],
   "source": [
    "def count_genes(file):\n",
    "    genes = 0\n",
    "    f = open(file)\n",
    "    for line in f:\n",
    "        if not line.startswith('#'):\n",
    "            feature = line.split('\\t')[2]\n",
    "            if feature == \"gene\":\n",
    "                genes += 1\n",
    "    return genes\n",
    "\n",
    "print(\"Number of genes in the GTF file: %d\" % count_genes(annotation))"
   ]
  },
  {
   "cell_type": "markdown",
   "metadata": {},
   "source": [
    "### ASSIGNMENT \n",
    "\n",
    "The main assignment consists of 6 subtasks to architect a method for finding the patients at risk. \n",
    "\n",
    "#### 1. How many transcripts can the CTFR gene generate?"
   ]
  },
  {
   "cell_type": "code",
   "execution_count": 59,
   "metadata": {},
   "outputs": [
    {
     "name": "stdout",
     "output_type": "stream",
     "text": [
      "Number of transcripts for the CTFR gene: 11\n"
     ]
    }
   ],
   "source": [
    "def find_transcripts(file, gene):\n",
    "    transcripts = 0\n",
    "    f = open(file)\n",
    "    for line in f:\n",
    "        if not line.startswith('#'):\n",
    "            gene_id = line.split('\\t')[8].split(\";\")[0].split(\" \")[1]\n",
    "            feature = line.split('\\t')[2]\n",
    "            if gene in gene_id:\n",
    "                if feature == \"transcript\":\n",
    "                    transcripts += 1\n",
    "    return transcripts\n",
    "\n",
    "print(\"Number of transcripts for the CTFR gene: %d\" % find_transcripts(annotation, \"ENSG00000001626\"))           \n",
    "            \n",
    "    "
   ]
  },
  {
   "cell_type": "markdown",
   "metadata": {},
   "source": [
    "#### 2. Which of these transcripts is the longest transcript in nucleotides?"
   ]
  },
  {
   "cell_type": "code",
   "execution_count": 3,
   "metadata": {},
   "outputs": [
    {
     "name": "stdout",
     "output_type": "stream",
     "text": [
      "The longest transcript(s) for the CTFR gene is: \"ENST00000003084\" which is 188702 nucelotides long\n"
     ]
    }
   ],
   "source": [
    "def transcript_len(file, gene): \n",
    "    transcripts = []\n",
    "    lengths = []\n",
    "    f = open(file)\n",
    "    for line in f:\n",
    "        if not line.startswith('#'):\n",
    "            feature = line.split('\\t')[2]\n",
    "            gene_id = line.split('\\t')[8].split(\";\")[0].split(\" \")[1]\n",
    "            trans_id = line.split('\\t')[8].split(\";\")[2].split(\" \")[2]\n",
    "            if gene in gene_id:\n",
    "                if feature == \"transcript\":\n",
    "                    lengths.append(int(line.split('\\t')[4]) - int(line.split('\\t')[3]))\n",
    "                    transcripts.append(trans_id)\n",
    "    ind = lengths.index(max(lengths))\n",
    "    return transcripts[ind], lengths[ind]\n",
    "\n",
    "print(\"The longest transcript(s) for the CTFR gene is: %s which is %d nucelotides long\" % (transcript_len(annotation, \"ENSG00000001626\")[0], int(transcript_len(annotation, \"ENSG00000001626\")[1])))           \n"
   ]
  },
  {
   "cell_type": "markdown",
   "metadata": {},
   "source": [
    "#### 3. Fetch the DNA sequence for that transcript"
   ]
  },
  {
   "cell_type": "code",
   "execution_count": 6,
   "metadata": {},
   "outputs": [
    {
     "name": "stdout",
     "output_type": "stream",
     "text": [
      "The sequences are of different length, try again\n"
     ]
    }
   ],
   "source": [
    "from Bio import SeqIO\n",
    "from Bio.Seq import Seq\n",
    "from Bio.SeqRecord import SeqRecord\n",
    "from utils import check_answers\n",
    "\n",
    "def extract_seq(annotation, fasta, transcript, outfile): \n",
    "    \"\"\"\n",
    "    Given a reference annotation file and a transcript ID, this function retrieves \n",
    "    the DNA sequence for that transcript. \n",
    "    \n",
    "    Required parameters: \n",
    "    \n",
    "    [1] Annotation file \n",
    "    [2] Reference fasta file\n",
    "    [3] Transcript ID\n",
    "    [4] Directory to output file\n",
    "    \"\"\"\n",
    "    with open(annotation, \"rt\") as gtf: \n",
    "        for line in gtf:\n",
    "            if not line.startswith('#'):\n",
    "                feature = line.split('\\t')[2]\n",
    "                trans_id = line.split('\\t')[8].split(\";\")[2].split(\" \")[2]\n",
    "                if transcript in trans_id:\n",
    "                    if feature == \"transcript\": \n",
    "                        (start, stop) = (int(line.split('\\t')[3]), int(line.split('\\t')[4]))\n",
    "    \n",
    "    with gzip.open(fasta, \"rt\") as f:\n",
    "        for rec in SeqIO.parse(f, \"fasta\"):\n",
    "            trans_seq_record = SeqRecord(Seq(str(rec.seq))[start:stop], id=transcript, description='')    \n",
    "        SeqIO.write(trans_seq_record, outfile, \"fasta\")\n",
    "\n",
    "# Arguments \n",
    "transcript = \"ENST00000003084\"\n",
    "transcript_outfile = \"data/transcript.fasta\"\n",
    "\n",
    "extract_seq(annotation, chr7_ref, transcript, transcript_outfile)\n",
    "\n",
    "# Check answer\n",
    "check_answers.ex3(transcript_outfile)"
   ]
  },
  {
   "cell_type": "markdown",
   "metadata": {},
   "source": [
    "#### 4. Fetch the DNA sequences of all exons for that transcript, spliced together to one sequence."
   ]
  },
  {
   "cell_type": "code",
   "execution_count": 6,
   "metadata": {},
   "outputs": [],
   "source": [
    "from Bio import SeqIO\n",
    "from Bio.Seq import Seq\n",
    "from Bio.SeqRecord import SeqRecord\n",
    "from collections import defaultdict\n",
    "from utils import check_answers\n",
    "\n",
    "def extract_exon(annotation, fasta, transcript, outfile): \n",
    "    \"\"\"\n",
    "    Given a reference annotation file and a transcript ID, this function retrieves \n",
    "    the DNA sequence for that transcript. \n",
    "    \n",
    "    Required parameters: \n",
    "    \n",
    "    [1] Annotation file \n",
    "    [2] Reference fasta file\n",
    "    [3] Transcript ID\n",
    "    [4] Directory to output file\n",
    "    \"\"\"\n",
    "    with open(annotation, \"rt\") as gtf:\n",
    "        exon_stop_start = defaultdict(list)\n",
    "        for line in gtf:\n",
    "            if not line.startswith('#'):\n",
    "                feature = line.strip().split('\\t')[2]\n",
    "                trans_id = line.strip().split('\\t')[8].split(\";\")[2].split(\" \")[2] \n",
    "                if transcript in trans_id:\n",
    "                    if feature == \"exon\":\n",
    "                        exon_id =line.strip().split('\\t')[8].split(\";\")[13].split(\" \")[2]\n",
    "                        start = int(line.strip().split('\\t')[3])\n",
    "                        stop = int(line.strip().split('\\t')[4])\n",
    "                        exon_stop_start[exon_id].append([start,stop])\n",
    "                                    \n",
    "    with gzip.open(fasta, \"rt\") as f:\n",
    "        seqs = \"\"\n",
    "        for rec in SeqIO.parse(f, \"fasta\"):\n",
    "            for keys, values in exon_stop_start.items():\n",
    "                seqs += Seq(str(rec.seq))[values[0][0]-1:values[0][1]]\n",
    "            exon_record = SeqRecord(seqs, id=transcript + \"_exons\", description='')\n",
    "\n",
    "            \n",
    "        SeqIO.write(exon_record, outfile, \"fasta\")\n",
    "\n",
    "# Arguments \n",
    "transcript = \"ENST00000003084\"\n",
    "exon_outfile = \"data/exons.fasta\"\n",
    "\n",
    "extract_exon(annotation, chr7_ref, transcript, exon_outfile)\n",
    "\n",
    "# Check answer\n",
    "#check_answers.ex4(exon_outfile)"
   ]
  },
  {
   "cell_type": "markdown",
   "metadata": {},
   "source": [
    "#### 5. What are the start positions and sequences of the start_codon and stop_codon for that transcript?"
   ]
  },
  {
   "cell_type": "code",
   "execution_count": 31,
   "metadata": {},
   "outputs": [
    {
     "name": "stdout",
     "output_type": "stream",
     "text": [
      "The start codon is ATG and starts at position 117480095\n",
      "The stop codon is TAG and starts at position 117667106\n"
     ]
    }
   ],
   "source": [
    "\n",
    "def extract_stop_start(annotation, fasta, transcript):\n",
    "    \"\"\"\n",
    "    Given a reference annotation file and a transcript ID, this function retrieves \n",
    "    the DNA sequence for that transcript. \n",
    "    \n",
    "    Required parameters: \n",
    "    \n",
    "    [1] Annotation file \n",
    "    [2] Reference fasta file\n",
    "    [3] Transcript ID\n",
    "    \"\"\"\n",
    "    with open(annotation, \"rt\") as gtf:\n",
    "        exon_stop_start = defaultdict(list)\n",
    "        for line in gtf:\n",
    "            if not line.startswith('#'):\n",
    "                feature = line.strip().split('\\t')[2]\n",
    "                trans_id = line.strip().split('\\t')[8].split(\";\")[2].split(\" \")[2] \n",
    "                if transcript in trans_id:\n",
    "                    if feature == \"start_codon\":\n",
    "                        start_codon = int(line.strip().split('\\t')[3])\n",
    "                    if feature == \"stop_codon\": \n",
    "                        stop_codon = int(line.strip().split('\\t')[3])\n",
    "    \n",
    "    with gzip.open(fasta, \"rt\") as f:\n",
    "        seqList = [] # store the DNA sequence of chromosome 7 in a list\n",
    "        for line in f:\n",
    "            if not line.startswith(\">\"):\n",
    "                seqList.append(line.strip())\n",
    "        chr7 = \"\".join(seqList) # join all DNA fragments from the seqList to one string\n",
    "        \n",
    "\n",
    "    if chr7[start_codon-1:start_codon+2] == \"ATG\":\n",
    "        print(\"The start codon is\", chr7[start_codon-1:start_codon+2], \"and starts at position\", start_codon)\n",
    "    else:\n",
    "        print(\"The start codon is not ATG\")\n",
    "\n",
    "    if chr7[stop_codon-1:stop_codon+2] == \"TAG\" or chr7[stop_codon-1:stop_codon+2] == \"TAA\" or chr7[stop_codon-1:stop_codon+2] == \"TGA\":\n",
    "        print(\"The stop codon is\", chr7[stop_codon-1:stop_codon+2], \"and starts at position\", stop_codon)\n",
    "    else:\n",
    "        print(\"The stop codon does not correspond to a proper stop codon\")\n",
    "\n",
    "# Arguments \n",
    "transcript = \"ENST00000003084\"\n",
    "exon_infile = \"data/exons.fasta\"\n",
    "\n",
    "extract_stop_start(annotation, chr7_ref, transcript)\n"
   ]
  },
  {
   "cell_type": "markdown",
   "metadata": {},
   "source": [
    "6. Translate the above sequence of all exons into amino acids, using an implementation of the translation table from the utils.rna package "
   ]
  },
  {
   "cell_type": "code",
   "execution_count": 47,
   "metadata": {},
   "outputs": [
    {
     "name": "stdout",
     "output_type": "stream",
     "text": [
      "The first exon has the positions (117479963, 117480147)\n",
      "The start codon has the position 117480095\n",
      "MQRSPLEKAS ...\n"
     ]
    }
   ],
   "source": [
    "from utils import rna \n",
    "\n",
    "# Get the longest transcript and its exons, as well as the start codon\n",
    "g = open(annotation, 'r')\n",
    "gene_id = \"ENSG00000001626\"\n",
    "transcript = '\"ENST00000003084\"'\n",
    "\n",
    "exons = []\n",
    "\n",
    "for line in g:\n",
    "    if not line.startswith(\"#\"):\n",
    "        entries = line.strip().split(\"\\t\")\n",
    "        if gene_id in line:\n",
    "            if entries[2] == \"exon\":\n",
    "                attribute = entries[8].split(\";\")\n",
    "                transcriptID = attribute[2].strip().split(' ')[1]\n",
    "                if transcript == transcriptID:\n",
    "                    start = int(entries[3])\n",
    "                    end = int(entries[4])\n",
    "                    exons.append((start, end))\n",
    "            elif entries[2] == 'start_codon':\n",
    "                attribute = entries[8].split(\"; \")\n",
    "                transcriptID = attribute[2].strip().split(' ')[1]\n",
    "                if transcript == transcriptID:\n",
    "                    start_codon = int(entries[3])\n",
    "\n",
    "print(\"The first exon has the positions\", exons[0])\n",
    "print(\"The start codon has the position\", start_codon)\n",
    "g.close()\n",
    "\n",
    "# Extract all exons of the longest transcript sequence from the genome fasta file\n",
    "\n",
    "with gzip.open(chr7_ref, \"rt\") as f:\n",
    "    seqList = [] # store the DNA sequence of chromosome 7 in a list\n",
    "    for line in f:\n",
    "        if not line.startswith(\">\"):\n",
    "            seqList.append(line.strip())\n",
    "    chr7 = \"\".join(seqList) # join all DNA fragments from the seqList to one string\n",
    "    f.close()\n",
    "\n",
    "mRNA = \"\" # add exon sequences to string\n",
    "for exon in exons:\n",
    "    mRNA += chr7[exon[0]-1:exon[1]]\n",
    "\n",
    "# Translate to aminoacids, from the correct start position on\n",
    "if chr7[start_codon-1:start_codon+2] != \"ATG\":\n",
    "    print(\"The start codon is not ATG\")\n",
    "else:\n",
    "    start = start_codon - exons[0][0] # get position of start codon in mRNA by subtracting the start codon position and the start position of the first exon\n",
    "\n",
    "from utils.rna import translate_dna\n",
    "aminoacids = translate_dna(mRNA[start:]) # translate the mRNA sequence from the start codon on\n",
    "print(aminoacids[:10], \"...\")\n",
    "\n",
    "a = open(\"data/CFTR_longest_transcript_aminoacids.txt\", 'w')\n",
    "a.write(aminoacids)\n",
    "a.close()"
   ]
  },
  {
   "cell_type": "markdown",
   "metadata": {},
   "source": [
    "### Finding the patients at risk\n",
    "\n",
    "A mutation in the transcript ENST00000003084 causes a premature stop codon to be introduced into the amino acid sequence. This creates a truncated protein, causing cystic fibrosis. Use the python code you have written to solve the tasks above and extend it to compare the reference genome sequence of chromosome 7 to the sequences of the following 5 patients in fasta format (Patient1.fa.gz, Patient2.fa.gz, Patient3.fa.gz, Patient4.fa.gz, and Patient5.fa.gz) to determine which of them are carrying a mutation in the CFTR gene that causes a truncated protein."
   ]
  },
  {
   "cell_type": "code",
   "execution_count": 54,
   "metadata": {},
   "outputs": [
    {
     "name": "stdout",
     "output_type": "stream",
     "text": [
      "The sequence of patient  3  has a different length than the reference genome sequence.\n"
     ]
    }
   ],
   "source": [
    "from utils import rna \n",
    "\n",
    "# Get the longest transcript and its exons, as well as the start codon\n",
    "g = open(annotation, 'r')\n",
    "gene_id = \"ENSG00000001626\"\n",
    "transcript = '\"ENST00000003084\"'\n",
    "\n",
    "exons = []\n",
    "\n",
    "for line in g:\n",
    "    if not line.startswith(\"#\"):\n",
    "        entries = line.strip().split(\"\\t\")\n",
    "        if gene_id in line:\n",
    "            if entries[2] == \"exon\":\n",
    "                attribute = entries[8].split(\";\")\n",
    "                transcriptID = attribute[2].strip().split(' ')[1]\n",
    "                if transcript == transcriptID:\n",
    "                    start = int(entries[3])\n",
    "                    end = int(entries[4])\n",
    "                    exons.append((start, end))\n",
    "            elif entries[2] == 'start_codon':\n",
    "                attribute = entries[8].split(\"; \")\n",
    "                transcriptID = attribute[2].strip().split(' ')[1]\n",
    "                if transcript == transcriptID:\n",
    "                    start_codon = int(entries[3])\n",
    "g.close()\n",
    "\n",
    "# Extract all exons of the longest transcript sequence from the genome fasta file\n",
    "\n",
    "with gzip.open(chr7_ref, \"rt\") as f:\n",
    "    seqList = [] # store the DNA sequence of chromosome 7 in a list\n",
    "    for line in f:\n",
    "        if not line.startswith(\">\"):\n",
    "            seqList.append(line.strip())\n",
    "    chr7 = \"\".join(seqList) # join all DNA fragments from the seqList to one string\n",
    "    f.close()\n",
    "\n",
    "mRNA = \"\" # add exon sequences to string\n",
    "for exon in exons:\n",
    "    mRNA += chr7[exon[0]-1:exon[1]]\n",
    "\n",
    "# Translate to aminoacids, from the correct start position on\n",
    "if chr7[start_codon-1:start_codon+2] != \"ATG\":\n",
    "    print(\"The start codon is not ATG\")\n",
    "else:\n",
    "    start = start_codon - exons[0][0] # get position of start codon in mRNA by subtracting the start codon position and the start position of the first exon\n",
    "\n",
    "from utils.rna import translate_dna\n",
    "aminoacids = translate_dna(mRNA[start:]) # translate the mRNA sequence from the start codon on\n",
    "\n",
    "i = 1 # index for loop through patient fasta files\n",
    "while i < 6:\n",
    "    p = gzip.open(\"data/Patient\" + str(i) + \".fa.gz\", 'rt')\n",
    "    patientSeqList = [] # store the DNA sequence of the patient in a list\n",
    "    for line in p:\n",
    "        if not line.startswith(\">\"):\n",
    "            patientSeqList.append(line.strip())\n",
    "    patientSeq = \"\".join(patientSeqList) # construct one sequence for the currently analyzed patient\n",
    "\n",
    "    patientmRNA = \"\" # append exon sequences to string. Works only for small strings.\n",
    "    for exon in exons:\n",
    "        patientmRNA += patientSeq[exon[0]-1:exon[1]]\n",
    "\n",
    "    # Translate to aminoacids\n",
    "    patient_aminoacids = translate_dna(patientmRNA[start:]) # translate the mRNA sequence from the start codon on\n",
    "    if not len(patient_aminoacids) == len(aminoacids):\n",
    "        print(\"The sequence of patient \", str(i), \" has a different length than the reference genome sequence.\")\n",
    "\n",
    "    p.close()\n",
    "    i += 1"
   ]
  }
 ],
 "metadata": {
  "kernelspec": {
   "display_name": "Python 3",
   "language": "python",
   "name": "python3"
  },
  "language_info": {
   "codemirror_mode": {
    "name": "ipython",
    "version": 3
   },
   "file_extension": ".py",
   "mimetype": "text/x-python",
   "name": "python",
   "nbconvert_exporter": "python",
   "pygments_lexer": "ipython3",
   "version": "3.7.6"
  }
 },
 "nbformat": 4,
 "nbformat_minor": 4
}
